{
 "cells": [
  {
   "cell_type": "code",
   "execution_count": 3,
   "metadata": {},
   "outputs": [],
   "source": [
    "import twint\n",
    "import pandas as pd\n",
    "import datetime as dt\n",
    "import matplotlib.pyplot as plt\n",
    "import nest_asyncio\n",
    "nest_asyncio.apply()"
   ]
  },
  {
   "cell_type": "code",
   "execution_count": 4,
   "metadata": {},
   "outputs": [
    {
     "name": "stdout",
     "output_type": "stream",
     "text": [
      "#strajkkobiet.csv\n",
      "#wypierdalać.csv\n",
      "#piekłokobiet.csv\n",
      "#tojestwojna.csv\n",
      "#strajkobiet.csv\n",
      "#wyroknakobiety.csv\n",
      "#jebaćpis.csv\n",
      "#jebacpis.csv\n",
      "#czarnyprotest.csv\n",
      "#aborcja.csv\n",
      "#protestkobiet.csv\n",
      "#falasprzeciwu.csv\n",
      "#pieklokobiet.csv\n",
      "#wypierdalac.csv\n",
      "#prawakobiet.csv\n"
     ]
    }
   ],
   "source": [
    "for i in ['#strajkkobiet','#wypierdalać','#piekłokobiet','#tojestwojna','#strajkobiet','#wyroknakobiety','#jebaćpis','#jebacpis','#czarnyprotest','#aborcja','#protestkobiet','#falasprzeciwu','#pieklokobiet','#wypierdalac','#prawakobiet']:\n",
    "    c = twint.Config()\n",
    "    c.Since = \"2021-03-01\"\n",
    "    c.Search = i\n",
    "    c.Store_csv = True\n",
    "    c.Output = i+\".csv\"\n",
    "    twint.run.Search(c)\n",
    "\n",
    "\n",
    "for i in ['strajkkobiet','wypierdalać','piekłokobiet','tojestwojna','strajkobiet','wyroknakobiety','jebaćpis','jebacpis','czarnyprotest','aborcja','protestkobiet','falasprzeciwu','pieklokobiet','wypierdalac','prawakobiet']:\n",
    "    c = twint.Config()\n",
    "    c.Since = \"2021-03-01\"\n",
    "    c.Search = i\n",
    "    c.Store_csv = True\n",
    "    c.Output = i+\".csv\"\n",
    "    twint.run.Search(c)\n"
   ]
  }
 ],
 "metadata": {
  "colab": {
   "authorship_tag": "ABX9TyP2DqpbvrL/wxbaw7vQfEhE",
   "include_colab_link": true,
   "mount_file_id": "1iNPCMNjT8ZUGq7Z-0CrZ1_p_uCsT-vSD",
   "name": "Twitter Scrapping com Twint do JL1 - Otávio de Filpo.ipynb",
   "provenance": []
  },
  "kernelspec": {
   "display_name": "Python 3",
   "language": "python",
   "name": "python3"
  },
  "language_info": {
   "codemirror_mode": {
    "name": "ipython",
    "version": 3
   },
   "file_extension": ".py",
   "mimetype": "text/x-python",
   "name": "python",
   "nbconvert_exporter": "python",
   "pygments_lexer": "ipython3",
   "version": "3.8.5"
  }
 },
 "nbformat": 4,
 "nbformat_minor": 1
}
